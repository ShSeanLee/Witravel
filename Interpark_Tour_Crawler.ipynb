{
 "cells": [
  {
   "cell_type": "code",
   "execution_count": 25,
   "id": "3971588d",
   "metadata": {},
   "outputs": [
    {
     "name": "stderr",
     "output_type": "stream",
     "text": [
      "C:\\Users\\autot\\AppData\\Local\\Temp/ipykernel_876/695703433.py:16: DeprecationWarning: executable_path has been deprecated, please pass in a Service object\n",
      "  driver = webdriver.Chrome(executable_path=\"chromedriver_win32/chromedriver.exe\")\n",
      "C:\\Users\\autot\\AppData\\Local\\Temp/ipykernel_876/695703433.py:25: DeprecationWarning: find_element_by_* commands are deprecated. Please use find_element() instead\n",
      "  ul = driver.find_element_by_class_name('spot-list02')\n",
      "C:\\Users\\autot\\AppData\\Local\\Temp/ipykernel_876/695703433.py:42: DeprecationWarning: find_element_by_* commands are deprecated. Please use find_element() instead\n",
      "  title = driver.find_element_by_class_name(\"titleArea\").text\n",
      "C:\\Users\\autot\\AppData\\Local\\Temp/ipykernel_876/695703433.py:43: DeprecationWarning: find_element_by_* commands are deprecated. Please use find_element() instead\n",
      "  img = driver.find_element_by_xpath('//*[@id=\"ctl00_bodyBtm_SpotImg\"]').get_attribute('src')\n",
      "C:\\Users\\autot\\AppData\\Local\\Temp/ipykernel_876/695703433.py:44: DeprecationWarning: find_elements_by_* commands are deprecated. Please use find_elements() instead\n",
      "  txts = driver.find_elements_by_class_name(\"db-data\")\n"
     ]
    }
   ],
   "source": [
    "# 최종\n",
    "\n",
    "import os\n",
    "from time import sleep\n",
    "import time\n",
    "import re\n",
    "from bs4 import BeautifulSoup\n",
    "from selenium import webdriver\n",
    "from selenium.common.exceptions import ElementNotInteractableException\n",
    "from selenium.common.exceptions import NoSuchElementException\n",
    "from selenium.webdriver.common.keys import Keys\n",
    "import pandas as pd\n",
    "import numpy as np\n",
    "\n",
    "# 인터파크 투어 메인 각 도시 페이지\n",
    "driver = webdriver.Chrome(executable_path=\"chromedriver_win32/chromedriver.exe\")\n",
    "\n",
    "url = 'https://tour.interpark.com/freeya/City.aspx?citycd=13912&mbn=freeya&mln=area_4_2'\n",
    "\n",
    "driver.get(url)\n",
    "time.sleep(5)\n",
    "\n",
    "ul = driver.find_element_by_class_name('spot-list02')\n",
    "lis = ul.find_elements_by_tag_name('li')\n",
    "\n",
    "\n",
    "df = pd.DataFrame(columns = ['title', 'img', 'intro', 'info']) # 데이터프레임 만들기\n",
    "\n",
    "for i in range(len(lis)):\n",
    "    v = lis[i].find_element_by_class_name('view')\n",
    "    href = v.find_element_by_tag_name('a').get_attribute('href')\n",
    "    \n",
    "    driver.execute_script('window.open(\"about:blank\", \"_blank\");') # 새 탭 열기\n",
    "    tabs = driver.window_handles\n",
    "    driver.switch_to.window(tabs[1]) # 새 탭으로 이동\n",
    "    driver.get(href) # 링크 열기\n",
    "\n",
    "\n",
    "    title = driver.find_element_by_class_name(\"titleArea\").text\n",
    "    img = driver.find_element_by_xpath('//*[@id=\"ctl00_bodyBtm_SpotImg\"]').get_attribute('src')\n",
    "    txts = driver.find_elements_by_class_name(\"db-data\")\n",
    "    intro = txts[0].text \n",
    "    info = txts[1].text\n",
    "\n",
    "\n",
    "    df = df.append({\"title\":title, \"img\":img, \"intro\":intro, \"info\":info}, ignore_index = True)\n",
    "    \n",
    "    driver.close()\n",
    "    driver.switch_to.window(tabs[0])\n",
    "drvier.quit()"
   ]
  },
  {
   "cell_type": "code",
   "execution_count": 26,
   "id": "b11d7b31",
   "metadata": {},
   "outputs": [
    {
     "data": {
      "text/html": [
       "<div>\n",
       "<style scoped>\n",
       "    .dataframe tbody tr th:only-of-type {\n",
       "        vertical-align: middle;\n",
       "    }\n",
       "\n",
       "    .dataframe tbody tr th {\n",
       "        vertical-align: top;\n",
       "    }\n",
       "\n",
       "    .dataframe thead th {\n",
       "        text-align: right;\n",
       "    }\n",
       "</style>\n",
       "<table border=\"1\" class=\"dataframe\">\n",
       "  <thead>\n",
       "    <tr style=\"text-align: right;\">\n",
       "      <th></th>\n",
       "      <th>title</th>\n",
       "      <th>img</th>\n",
       "      <th>intro</th>\n",
       "      <th>info</th>\n",
       "    </tr>\n",
       "  </thead>\n",
       "  <tbody>\n",
       "    <tr>\n",
       "      <th>0</th>\n",
       "      <td>[파리] 파리 노트르담 대성당</td>\n",
       "      <td>https://tourimage.interpark.com//Spot/164/1391...</td>\n",
       "      <td>'노트르담의 꼽추'의 배경지이자 대표적인 고딕 건축물, 노트르담 대성당\\n\\n116...</td>\n",
       "      <td>주소 : 6 Parvis Notre-Dame - Pl. Jean-Paul II,75...</td>\n",
       "    </tr>\n",
       "    <tr>\n",
       "      <th>1</th>\n",
       "      <td>[파리] 에펠탑</td>\n",
       "      <td>https://tourimage.interpark.com//Spot/164/1391...</td>\n",
       "      <td>자타공인 파리의 랜드마크, 에펠탑\\n\\n에펠탑은 1889년, 프랑스 혁명(1789)...</td>\n",
       "      <td>주소 : Champ de Mars, 5 Avenue Anatole France, 7...</td>\n",
       "    </tr>\n",
       "    <tr>\n",
       "      <th>2</th>\n",
       "      <td>[파리] 오르세 미술관</td>\n",
       "      <td>https://tourimage.interpark.com//Spot/164/1391...</td>\n",
       "      <td>예술공간으로 다시 태어난 옛 기차역, 오르세 미술관\\n오르세 미술관은 본래 기차역이...</td>\n",
       "      <td>주소 : 1 Rue de la Legion d'Honneur, 75007 Paris...</td>\n",
       "    </tr>\n",
       "  </tbody>\n",
       "</table>\n",
       "</div>"
      ],
      "text/plain": [
       "              title                                                img  \\\n",
       "0  [파리] 파리 노트르담 대성당  https://tourimage.interpark.com//Spot/164/1391...   \n",
       "1          [파리] 에펠탑  https://tourimage.interpark.com//Spot/164/1391...   \n",
       "2      [파리] 오르세 미술관  https://tourimage.interpark.com//Spot/164/1391...   \n",
       "\n",
       "                                               intro  \\\n",
       "0  '노트르담의 꼽추'의 배경지이자 대표적인 고딕 건축물, 노트르담 대성당\\n\\n116...   \n",
       "1  자타공인 파리의 랜드마크, 에펠탑\\n\\n에펠탑은 1889년, 프랑스 혁명(1789)...   \n",
       "2  예술공간으로 다시 태어난 옛 기차역, 오르세 미술관\\n오르세 미술관은 본래 기차역이...   \n",
       "\n",
       "                                                info  \n",
       "0  주소 : 6 Parvis Notre-Dame - Pl. Jean-Paul II,75...  \n",
       "1  주소 : Champ de Mars, 5 Avenue Anatole France, 7...  \n",
       "2  주소 : 1 Rue de la Legion d'Honneur, 75007 Paris...  "
      ]
     },
     "execution_count": 26,
     "metadata": {},
     "output_type": "execute_result"
    }
   ],
   "source": [
    "df"
   ]
  },
  {
   "cell_type": "code",
   "execution_count": 28,
   "id": "0ae90874",
   "metadata": {},
   "outputs": [],
   "source": [
    "df.to_csv('Paris_places_info.csv', encoding = 'utf-8-sig')"
   ]
  }
 ],
 "metadata": {
  "kernelspec": {
   "display_name": "Python 3 (ipykernel)",
   "language": "python",
   "name": "python3"
  },
  "language_info": {
   "codemirror_mode": {
    "name": "ipython",
    "version": 3
   },
   "file_extension": ".py",
   "mimetype": "text/x-python",
   "name": "python",
   "nbconvert_exporter": "python",
   "pygments_lexer": "ipython3",
   "version": "3.9.7"
  }
 },
 "nbformat": 4,
 "nbformat_minor": 5
}
